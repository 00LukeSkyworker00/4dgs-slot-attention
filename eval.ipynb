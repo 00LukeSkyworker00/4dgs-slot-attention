{
 "cells": [
  {
   "cell_type": "code",
   "execution_count": null,
   "metadata": {},
   "outputs": [],
   "source": [
    "from dataset import *\n",
    "import torch\n",
    "import numpy as np"
   ]
  },
  {
   "cell_type": "code",
   "execution_count": null,
   "metadata": {},
   "outputs": [],
   "source": [
    "# Hyperparameters.\n",
    "seed = 0\n",
    "batch_size = 1\n",
    "num_slots = 10\n",
    "num_iterations = 3\n",
    "resolution = (128, 128)\n",
    "frame = 8\n",
    "\n",
    "ckpt_dir='/home/skyworker/result/4DGS_SlotAttention/slot_4dgs'\n",
    "ckpt_seq = 'movi_a_megasam_01_50'\n",
    "\n",
    "val_dir = '/home/skyworker/temp/megasam_slot'\n",
    "val_seq = 'movi_a_0000_droid.npz'"
   ]
  },
  {
   "cell_type": "code",
   "execution_count": null,
   "metadata": {},
   "outputs": [],
   "source": [
    "from model import *\n",
    "device = torch.device(\"cuda:0\" if torch.cuda.is_available() else \"cpu\")\n",
    "resolution = (128, 128)\n",
    "model = SlotAttentionAutoEncoder(resolution, num_slots, num_iterations, 64).to(device)\n",
    "model.load_state_dict(torch.load(os.path.join(ckpt_dir,ckpt_seq,'last.ckpt') )['model_state_dict'])\n",
    "test_set = MegaSaM(os.path.join(val_dir,val_seq),'test')"
   ]
  },
  {
   "cell_type": "code",
   "execution_count": null,
   "metadata": {},
   "outputs": [],
   "source": [
    "model = model.to(device)\n",
    "\n",
    "image = test_set[frame]['image']\n",
    "depth = test_set[frame]['depth']\n",
    "image = image.unsqueeze(0).to(device)\n",
    "depth = depth.unsqueeze(0).to(device)\n",
    "\n",
    "data = torch.cat((image, depth), dim=1).to(device)\n",
    "recon_combined, recons, masks, slots = model(data)\n",
    "\n",
    "image = image.squeeze(0)\n",
    "recon_combined = recon_combined.squeeze(0)\n",
    "recons = recons.squeeze(0)\n",
    "masks = masks.squeeze(0)\n",
    "\n",
    "image = image.permute(1,2,0).cpu().numpy()\n",
    "recon_combined = recon_combined.permute(1,2,0)\n",
    "recon_combined = recon_combined.cpu().detach().numpy()\n",
    "recons = recons.cpu().detach().numpy()\n",
    "masks = masks.cpu().detach().numpy()"
   ]
  },
  {
   "cell_type": "code",
   "execution_count": null,
   "metadata": {},
   "outputs": [],
   "source": [
    "import matplotlib.pyplot as plt\n",
    "from PIL import Image as Image, ImageEnhance\n",
    "fig, ax = plt.subplots(1, num_slots + 2, figsize=(15, 2))\n",
    "ax[0].imshow(image)\n",
    "ax[0].set_title('Image')\n",
    "ax[1].imshow(recon_combined)\n",
    "ax[1].set_title('Recon.')\n",
    "for i in range(num_slots):\n",
    "  picture = masks[i]\n",
    "  # picture = recons[i] * masks[i] + (1 - masks[i])\n",
    "  ax[i + 2].imshow(picture, cmap='plasma')\n",
    "  ax[i + 2].set_title('Slot %s' % str(i + 1))\n",
    "for i in range(len(ax)):\n",
    "  ax[i].grid(False)\n",
    "  ax[i].axis('off')\n",
    "\n",
    "# plt.imshow(masks[0])"
   ]
  },
  {
   "cell_type": "code",
   "execution_count": null,
   "metadata": {},
   "outputs": [],
   "source": []
  },
  {
   "cell_type": "code",
   "execution_count": null,
   "metadata": {},
   "outputs": [],
   "source": []
  }
 ],
 "metadata": {
  "kernelspec": {
   "display_name": "slot4dgs",
   "language": "python",
   "name": "python3"
  },
  "language_info": {
   "codemirror_mode": {
    "name": "ipython",
    "version": 3
   },
   "file_extension": ".py",
   "mimetype": "text/x-python",
   "name": "python",
   "nbconvert_exporter": "python",
   "pygments_lexer": "ipython3",
   "version": "3.10.16"
  }
 },
 "nbformat": 4,
 "nbformat_minor": 4
}
