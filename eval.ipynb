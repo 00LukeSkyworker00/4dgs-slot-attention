{
 "cells": [
  {
   "cell_type": "code",
   "execution_count": null,
   "metadata": {},
   "outputs": [],
   "source": [
    "# %cd /home/skyworker/result/4DGS_SlotAttention/slot_4dgs/movi_a_test_04_16_gs_color_compete_full_texture\n",
    "%cd /home/skyworker/result/4DGS_SlotAttention/slot_4dgs/movi_a_test_04_23_gs_color_compete_concat_slot\n",
    "!pwd"
   ]
  },
  {
   "cell_type": "code",
   "execution_count": null,
   "metadata": {},
   "outputs": [],
   "source": [
    "from omegaconf import OmegaConf\n",
    "import matplotlib.pyplot as plt\n",
    "from PIL import Image as Image"
   ]
  },
  {
   "cell_type": "code",
   "execution_count": null,
   "metadata": {},
   "outputs": [],
   "source": [
    "from model import *\n",
    "from dataset import *\n",
    "\n",
    "# Load YAML.\n",
    "cfg = OmegaConf.load('config.yaml')\n",
    "cfg.attention.num_slots = 10\n",
    "\n",
    "# Get CFG\n",
    "seed = cfg.training.seed\n",
    "batch_size = cfg.training.batch_size\n",
    "num_slots = cfg.attention.num_slots\n",
    "num_iters = cfg.attention.num_iters\n",
    "resolution = tuple(cfg.dataset.resolution)\n",
    "\n",
    "# Set target frame.\n",
    "frame = 10\n",
    "\n",
    "# Load val dataset.\n",
    "val_dir = '/home/skyworker/result/4DGS_SlotAttention/shape_of_motion/'\n",
    "val_seq = 'movi_a_0000_anoMask'\n",
    "test_set = ShapeOfMotion(os.path.join(val_dir,val_seq), cfg.dataset)\n",
    "\n",
    "# Load model.\n",
    "device = torch.device(\"cuda:0\" if torch.cuda.is_available() else \"cpu\")\n",
    "model = SlotAttentionAutoEncoder(cfg.dataset, cfg.cnn, cfg.attention).to(device)\n",
    "model.load_state_dict(torch.load(os.path.join('checkpoints','last.ckpt' ))['model_state_dict'])\n",
    "\n",
    "# Inference.\n",
    "model = model.to(device)\n",
    "sample = test_set[frame]\n",
    "image = sample['gt_imgs'].to(device)\n",
    "image = image.squeeze(0)\n",
    "image = image.cpu().detach().numpy()\n",
    "\n",
    "if cfg.attention.use_all_gs:\n",
    "    selected = [k for k, m in zip(sample['all_gs'], sample['feature_mask']) if m]\n",
    "    gs = torch.cat(selected, dim=-1)\n",
    "else:\n",
    "    gs = sample['fg_gs']\n",
    "    # pos_embed = sample['fg_gs_pos']\n",
    "    \n",
    "\n",
    "Ks = sample['Ks']\n",
    "w2cs = sample['w2cs']\n",
    "gs = gs[None].to(device)\n",
    "Ks = Ks[None].to(device)\n",
    "w2cs = w2cs[None].to(device)\n",
    "pos_embed = sample['all_gs'][0][None].to(device)\n",
    "print(gs.shape)"
   ]
  },
  {
   "cell_type": "code",
   "execution_count": null,
   "metadata": {},
   "outputs": [],
   "source": [
    "recon_combined,recon_slots,color_code,_,gs_slot = model(gs, pos_embed, Ks=Ks, w2cs=w2cs,inference=True)\n",
    "# Squeeze.\n",
    "recon_combined = (recon_combined * 255).squeeze(0).to(torch.uint8)\n",
    "recon_slots = (recon_slots * 255)\n",
    "print(color_code.shape)\n",
    "# color_code = (color_code - color_code.min()) / (color_code.max()-color_code.min()) # Min-Max Norm\n",
    "# color_code = torch.sigmoid(color_code)\n",
    "color_code = (color_code[:,:,:10,:] * 255).squeeze(0).to(torch.uint8)\n",
    "color_code = color_code.permute(1,0,2)\n",
    "# recons = recons.squeeze(0)\n",
    "# masks = masks.squeeze(0)\n",
    "\n",
    "# Convert to numpy.\n",
    "recon_combined = recon_combined.cpu().detach().numpy()\n",
    "color_code = color_code.cpu().detach().numpy()\n",
    "\n",
    "# recons = recons.cpu().detach().numpy()\n",
    "# masks = masks.cpu().detach().numpy()\n",
    "fig, ax = plt.subplots(1, 3, figsize=(10, 2))\n",
    "# plt.imshow(image, cmap='gray')\n",
    "ax[0].imshow(image)\n",
    "ax[0].set_title('Image')\n",
    "ax[1].imshow(recon_combined)\n",
    "ax[1].set_title('Recon.')\n",
    "ax[2].imshow(color_code)\n",
    "ax[2].set_title('Colors.')\n",
    "plt.tight_layout()\n",
    "\n",
    "imageio.imwrite('image.png', image)\n",
    "imageio.imwrite('recon_combined.png', recon_combined)\n",
    "imageio.imwrite('color_code.png', color_code)"
   ]
  },
  {
   "cell_type": "code",
   "execution_count": null,
   "metadata": {},
   "outputs": [],
   "source": [
    "fig, ax = plt.subplots(1, num_slots+1, figsize=(20, 2))\n",
    "stack = np.zeros((resolution[0], resolution[1], 3), dtype=np.uint8)\n",
    "for i in range(num_slots):\n",
    "  slot = recon_slots[i].squeeze(0).to(torch.uint8)\n",
    "  picture = slot.cpu().detach().numpy()\n",
    "  stack += picture\n",
    "  # picture = recons[i] * masks[i] + (1 - masks[i])\n",
    "  ax[i].imshow(picture)\n",
    "  ax[i].set_title('Slot %s' % str(i + 1))\n",
    "for i in range(len(ax)):\n",
    "  ax[i].grid(False)\n",
    "  ax[i].axis('off')\n",
    "ax[num_slots].imshow(stack)\n",
    "ax[num_slots].set_title('Slot Stack')\n",
    "plt.tight_layout()"
   ]
  },
  {
   "cell_type": "code",
   "execution_count": null,
   "metadata": {},
   "outputs": [],
   "source": [
    "from gsplat.distributed import cli\n",
    "from simple_viewer import viewer\n",
    "from argparse import Namespace\n",
    "print(gs_slot.shape)\n",
    "\n",
    "args = Namespace(\n",
    "    port=8080,\n",
    "    gs = gs[0].detach().cpu()\n",
    ")\n",
    "\n",
    "viewer(args)"
   ]
  },
  {
   "cell_type": "code",
   "execution_count": null,
   "metadata": {},
   "outputs": [],
   "source": [
    "# !tensorboard --logdir=logs"
   ]
  }
 ],
 "metadata": {
  "kernelspec": {
   "display_name": "slot4dgs",
   "language": "python",
   "name": "python3"
  },
  "language_info": {
   "codemirror_mode": {
    "name": "ipython",
    "version": 3
   },
   "file_extension": ".py",
   "mimetype": "text/x-python",
   "name": "python",
   "nbconvert_exporter": "python",
   "pygments_lexer": "ipython3",
   "version": "3.10.16"
  }
 },
 "nbformat": 4,
 "nbformat_minor": 4
}
