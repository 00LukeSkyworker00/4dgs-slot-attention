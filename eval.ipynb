{
 "cells": [
  {
   "cell_type": "code",
   "execution_count": 1,
   "metadata": {},
   "outputs": [
    {
     "name": "stdout",
     "output_type": "stream",
     "text": [
      "/home/skyworker/result/4DGS_SlotAttention/slot_4dgs/movi_a_test_04_15_rasterization_4\n",
      "/bin/bash: /home/skyworker/anaconda3/lib/libtinfo.so.6: no version information available (required by /bin/bash)\n",
      "/home/skyworker/result/4DGS_SlotAttention/slot_4dgs/movi_a_test_04_15_rasterization_4\n"
     ]
    }
   ],
   "source": [
    "%cd /home/skyworker/result/4DGS_SlotAttention/slot_4dgs/movi_a_test_04_15_rasterization_4\n",
    "!pwd"
   ]
  },
  {
   "cell_type": "code",
   "execution_count": 2,
   "metadata": {},
   "outputs": [],
   "source": [
    "from omegaconf import OmegaConf\n",
    "import matplotlib.pyplot as plt\n",
    "from PIL import Image as Image"
   ]
  },
  {
   "cell_type": "code",
   "execution_count": 3,
   "metadata": {},
   "outputs": [],
   "source": [
    "from model import *\n",
    "from dataset import *\n",
    "\n",
    "# Load YAML.\n",
    "cfg = OmegaConf.load('config.yaml')\n",
    "\n",
    "# Get CFG\n",
    "seed = cfg.training.seed\n",
    "batch_size = cfg.training.batch_size\n",
    "num_slots = cfg.attention.num_slots\n",
    "num_iters = cfg.attention.num_iters\n",
    "resolution = tuple(cfg.dataset.resolution)\n",
    "\n",
    "# Set target frame.\n",
    "frame = 5\n",
    "\n",
    "# Load val dataset.\n",
    "val_dir = '/home/skyworker/result/4DGS_SlotAttention/shape_of_motion/'\n",
    "val_seq = 'movi_a_0010_anoMask'\n",
    "test_set = ShapeOfMotion(os.path.join(val_dir,val_seq), cfg.dataset)\n",
    "\n",
    "# Load model.\n",
    "device = torch.device(\"cuda:0\" if torch.cuda.is_available() else \"cpu\")\n",
    "model = SlotAttentionAutoEncoder(cfg.dataset, cfg.cnn, cfg.attention).to(device)\n",
    "model.load_state_dict(torch.load(os.path.join('checkpoints','last.ckpt' ))['model_state_dict'])\n",
    "\n",
    "# Inference.\n",
    "model = model.to(device)\n",
    "sample = test_set[frame]\n",
    "image = sample['gt_imgs'].to(device)\n",
    "image = image.squeeze(0)\n",
    "image = image.cpu().detach().numpy()\n",
    "\n",
    "selected = [k for k, m in zip(sample['gs'], sample['feature_mask']) if m]\n",
    "gs = torch.cat(selected, dim=-1)\n",
    "    \n",
    "\n",
    "Ks = sample['Ks']\n",
    "w2cs = sample['w2cs']\n",
    "gs = gs[None].to(device)\n",
    "Ks = Ks[None].to(device)\n",
    "w2cs = w2cs[None].to(device)\n",
    "pos_embed = sample['gs'][0].to(device)"
   ]
  },
  {
   "cell_type": "code",
   "execution_count": 4,
   "metadata": {},
   "outputs": [
    {
     "name": "stdout",
     "output_type": "stream",
     "text": [
      "0\n"
     ]
    },
    {
     "data": {
      "image/png": "[encoded data removed]",
      "text/plain": [
       "<Figure size 400x200 with 2 Axes>"
      ]
     },
     "metadata": {},
     "output_type": "display_data"
    }
   ],
   "source": [
    "recon_combined = model(gs, pos_embed, Ks=Ks, w2cs=w2cs).to(torch.uint8)\n",
    "# Squeeze.\n",
    "recon_combined = recon_combined.squeeze(0)\n",
    "# recons = recons.squeeze(0)\n",
    "# masks = masks.squeeze(0)\n",
    "\n",
    "# Convert to numpy.\n",
    "recon_combined = recon_combined.cpu().detach().numpy()\n",
    "\n",
    "# recons = recons.cpu().detach().numpy()\n",
    "# masks = masks.cpu().detach().numpy()\n",
    "fig, ax = plt.subplots(1, 2, figsize=(4, 2))\n",
    "# plt.imshow(image, cmap='gray')\n",
    "ax[0].imshow(image)\n",
    "ax[0].set_title('Image')\n",
    "ax[1].imshow(recon_combined)\n",
    "ax[1].set_title('Recon.')\n",
    "plt.tight_layout()"
   ]
  },
  {
   "cell_type": "code",
   "execution_count": 5,
   "metadata": {},
   "outputs": [
    {
     "ename": "NameError",
     "evalue": "name 'masks' is not defined",
     "output_type": "error",
     "traceback": [
      "\u001b[0;31m---------------------------------------------------------------------------\u001b[0m",
      "\u001b[0;31mNameError\u001b[0m                                 Traceback (most recent call last)",
      "Cell \u001b[0;32mIn[5], line 3\u001b[0m\n\u001b[1;32m      1\u001b[0m fig, ax \u001b[38;5;241m=\u001b[39m plt\u001b[38;5;241m.\u001b[39msubplots(\u001b[38;5;241m1\u001b[39m, num_slots, figsize\u001b[38;5;241m=\u001b[39m(\u001b[38;5;241m20\u001b[39m, \u001b[38;5;241m2\u001b[39m))\n\u001b[1;32m      2\u001b[0m \u001b[38;5;28;01mfor\u001b[39;00m i \u001b[38;5;129;01min\u001b[39;00m \u001b[38;5;28mrange\u001b[39m(num_slots):\n\u001b[0;32m----> 3\u001b[0m   picture \u001b[38;5;241m=\u001b[39m \u001b[43mmasks\u001b[49m[i]\n\u001b[1;32m      4\u001b[0m   \u001b[38;5;66;03m# picture = recons[i] * masks[i] + (1 - masks[i])\u001b[39;00m\n\u001b[1;32m      5\u001b[0m   ax[i]\u001b[38;5;241m.\u001b[39mimshow(picture, cmap\u001b[38;5;241m=\u001b[39m\u001b[38;5;124m\"\u001b[39m\u001b[38;5;124mplasma\u001b[39m\u001b[38;5;124m\"\u001b[39m)\n",
      "\u001b[0;31mNameError\u001b[0m: name 'masks' is not defined"
     ]
    },
    {
     "data": {
      "image/png": "[encoded data removed]",
      "text/plain": [
       "<Figure size 2000x200 with 20 Axes>"
      ]
     },
     "metadata": {},
     "output_type": "display_data"
    }
   ],
   "source": [
    "fig, ax = plt.subplots(1, num_slots, figsize=(20, 2))\n",
    "for i in range(num_slots):\n",
    "  picture = masks[i]\n",
    "  # picture = recons[i] * masks[i] + (1 - masks[i])\n",
    "  ax[i].imshow(picture, cmap=\"plasma\")\n",
    "  ax[i].set_title('Slot %s' % str(i + 1))\n",
    "for i in range(len(ax)):\n",
    "  ax[i].grid(False)\n",
    "  ax[i].axis('off')\n",
    "plt.tight_layout()"
   ]
  },
  {
   "cell_type": "code",
   "execution_count": null,
   "metadata": {},
   "outputs": [
    {
     "name": "stdout",
     "output_type": "stream",
     "text": [
      "/bin/bash: /home/skyworker/anaconda3/lib/libtinfo.so.6: no version information available (required by /bin/bash)\n",
      "TensorFlow installation not found - running with reduced feature set.\n",
      "\n",
      "NOTE: Using experimental fast data loading logic. To disable, pass\n",
      "    \"--load_fast=false\" and report issues on GitHub. More details:\n",
      "    https://github.com/tensorflow/tensorboard/issues/4784\n",
      "\n",
      "Serving TensorBoard on localhost; to expose to the network, use a proxy or pass --bind_all\n",
      "TensorBoard 2.19.0 at http://localhost:6006/ (Press CTRL+C to quit)\n",
      "^C\n"
     ]
    }
   ],
   "source": [
    "!tensorboard --logdir=logs"
   ]
  }
 ],
 "metadata": {
  "kernelspec": {
   "display_name": "slot4dgs",
   "language": "python",
   "name": "python3"
  },
  "language_info": {
   "codemirror_mode": {
    "name": "ipython",
    "version": 3
   },
   "file_extension": ".py",
   "mimetype": "text/x-python",
   "name": "python",
   "nbconvert_exporter": "python",
   "pygments_lexer": "ipython3",
   "version": "3.10.16"
  }
 },
 "nbformat": 4,
 "nbformat_minor": 4
}
